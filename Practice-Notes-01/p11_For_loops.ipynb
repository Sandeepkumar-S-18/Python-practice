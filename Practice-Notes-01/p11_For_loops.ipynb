{
 "cells": [
  {
   "cell_type": "markdown",
   "id": "28f5926a",
   "metadata": {},
   "source": [
    "# for loop"
   ]
  },
  {
   "cell_type": "code",
   "execution_count": 1,
   "id": "cfd239b3",
   "metadata": {},
   "outputs": [],
   "source": [
    "# for loop is used to iterate over a sequence, which could be a list, tuple, array or a string.\n",
    "# Syntax\n",
    "    # for counter in sequence:\n",
    "        # statement(s)"
   ]
  },
  {
   "cell_type": "code",
   "execution_count": 2,
   "id": "19dd3e7d",
   "metadata": {},
   "outputs": [
    {
     "name": "stdout",
     "output_type": "stream",
     "text": [
      "1 3.4 sandeep\n"
     ]
    }
   ],
   "source": [
    "x = [1,3.4,'sandeep']\n",
    "print(x[0],x[1],x[2])"
   ]
  },
  {
   "cell_type": "code",
   "execution_count": 3,
   "id": "b51ffbe3",
   "metadata": {},
   "outputs": [
    {
     "name": "stdout",
     "output_type": "stream",
     "text": [
      "1\n",
      "3.4\n",
      "sandeep\n"
     ]
    }
   ],
   "source": [
    "x = [1,3.4,'sandeep']\n",
    "for i in x:\n",
    "    print(i)"
   ]
  },
  {
   "cell_type": "code",
   "execution_count": 6,
   "id": "ca328974",
   "metadata": {},
   "outputs": [
    {
     "name": "stdout",
     "output_type": "stream",
     "text": [
      "s\n",
      "a\n",
      "n\n",
      "d\n",
      "e\n",
      "e\n",
      "p\n"
     ]
    }
   ],
   "source": [
    "x = 'sandeep'\n",
    "for i in x:\n",
    "    print(i)"
   ]
  },
  {
   "cell_type": "code",
   "execution_count": 7,
   "id": "981e0ec6",
   "metadata": {},
   "outputs": [
    {
     "name": "stdout",
     "output_type": "stream",
     "text": [
      "sandeep"
     ]
    }
   ],
   "source": [
    "x = 'sandeep'\n",
    "for i in x:\n",
    "    print(i,end='')"
   ]
  },
  {
   "cell_type": "code",
   "execution_count": 8,
   "id": "fab6271c",
   "metadata": {},
   "outputs": [
    {
     "name": "stdout",
     "output_type": "stream",
     "text": [
      "0\n",
      "1\n",
      "2\n",
      "3\n",
      "4\n",
      "5\n",
      "6\n",
      "7\n",
      "8\n",
      "9\n",
      "10\n",
      "11\n",
      "12\n",
      "13\n",
      "14\n",
      "15\n",
      "16\n",
      "17\n",
      "18\n",
      "19\n"
     ]
    }
   ],
   "source": [
    "for i in range(0,20):\n",
    "    print(i)"
   ]
  },
  {
   "cell_type": "code",
   "execution_count": 9,
   "id": "bfa77db8",
   "metadata": {},
   "outputs": [
    {
     "name": "stdout",
     "output_type": "stream",
     "text": [
      "0\n",
      "2\n",
      "4\n",
      "6\n",
      "8\n",
      "10\n",
      "12\n",
      "14\n",
      "16\n",
      "18\n",
      "20\n"
     ]
    }
   ],
   "source": [
    "for i in range(0,21,2):\n",
    "    print(i)"
   ]
  },
  {
   "cell_type": "code",
   "execution_count": 10,
   "id": "0e8f2682",
   "metadata": {},
   "outputs": [
    {
     "name": "stdout",
     "output_type": "stream",
     "text": [
      "110\n"
     ]
    }
   ],
   "source": [
    "# sum of even numbers\n",
    "sum=0\n",
    "for i in range(0,21):\n",
    "    if i%2==0:\n",
    "        sum=sum+i\n",
    "print(sum)"
   ]
  },
  {
   "cell_type": "code",
   "execution_count": 12,
   "id": "f4438e87",
   "metadata": {},
   "outputs": [
    {
     "name": "stdout",
     "output_type": "stream",
     "text": [
      "Enter the number 5\n",
      "1\n",
      "12\n",
      "123\n",
      "1234\n",
      "12345\n"
     ]
    }
   ],
   "source": [
    "# print the given pattern\n",
    "    # 1\n",
    "    # 12\n",
    "    # 123\n",
    "    # 1234\n",
    "    # 12345\n",
    "\n",
    "n = int(input('Enter the number '))\n",
    "for i in range(1,n+1):\n",
    "    for j in range(1,i+1):\n",
    "        print(j,end='')\n",
    "    print()"
   ]
  },
  {
   "cell_type": "code",
   "execution_count": 7,
   "id": "8b9a4311",
   "metadata": {},
   "outputs": [
    {
     "name": "stdout",
     "output_type": "stream",
     "text": [
      "Enter number of rows 2\n",
      "Enter number of columns 2\n",
      "Enter the 0 * 0 elements 1\n",
      "Enter the 0 * 1 elements 2\n",
      "Enter the 1 * 0 elements 3\n",
      "Enter the 1 * 1 elements 4\n",
      "Enter the 0 * 0 elements 5\n",
      "Enter the 0 * 1 elements 6\n",
      "Enter the 1 * 0 elements 7\n",
      "Enter the 1 * 1 elements 8\n",
      "[['15', '26']]\n",
      "[['15', '26'], ['37', '48']]\n"
     ]
    }
   ],
   "source": [
    "r = int(input('Enter number of rows '))\n",
    "c = int(input('Enter number of columns '))\n",
    "x = []\n",
    "va1 = []\n",
    "for i in range(0,r):\n",
    "    for j in range(0,r):\n",
    "        va1.insert(j,input('Enter the %d * %d elements ' %(i,j)))\n",
    "    x.insert(i,va1)\n",
    "    va1 = []\n",
    "y = []\n",
    "for i in range(0,r):\n",
    "    for j in range(0,c):\n",
    "        va1.insert(j,input('Enter the %d * %d elements ' %(i,j)))\n",
    "    y.insert(i,va1)\n",
    "    va1 = []\n",
    "sum=[]\n",
    "\n",
    "for i in range(0,r):\n",
    "    for j in range(0,c):\n",
    "        va1.insert(j,x[i][j]+y[i][j])\n",
    "    sum.insert(i,va1)\n",
    "    va1=[]\n",
    "    print(sum)\n",
    "# Here [['15', '26'], ['37', '48']] just cancatenate the numbers are 1 & 5, 2 & 6, 3 & 7, 4 & 8."
   ]
  },
  {
   "cell_type": "code",
   "execution_count": 8,
   "id": "e4ab2548",
   "metadata": {},
   "outputs": [
    {
     "name": "stdout",
     "output_type": "stream",
     "text": [
      "Enter number of rows 2\n",
      "Enter number of columns 2\n",
      "Enter the 0 * 0 elements 1\n",
      "Enter the 0 * 1 elements 2\n",
      "Enter the 1 * 0 elements 3\n",
      "Enter the 1 * 1 elements 4\n",
      "Enter the 0 * 0 elements 5\n",
      "Enter the 0 * 1 elements 6\n",
      "Enter the 1 * 0 elements 7\n",
      "Enter the 1 * 1 elements 8\n",
      "[[6, 8]]\n",
      "[[6, 8], [10, 12]]\n"
     ]
    }
   ],
   "source": [
    "r = int(input('Enter number of rows '))\n",
    "c = int(input('Enter number of columns '))\n",
    "x = []\n",
    "va1 = []\n",
    "for i in range(0,r):\n",
    "    for j in range(0,r):\n",
    "        va1.insert(j,int(input('Enter the %d * %d elements ' %(i,j))))\n",
    "    x.insert(i,va1)\n",
    "    va1 = []\n",
    "y = []\n",
    "for i in range(0,r):\n",
    "    for j in range(0,c):\n",
    "        va1.insert(j,int(input('Enter the %d * %d elements ' %(i,j))))\n",
    "    y.insert(i,va1)\n",
    "    va1 = []\n",
    "sum=[]\n",
    "\n",
    "for i in range(0,r):\n",
    "    for j in range(0,c):\n",
    "        va1.insert(j,x[i][j]+y[i][j])\n",
    "    sum.insert(i,va1)\n",
    "    va1=[]\n",
    "    print(sum)\n",
    "# Here [[6, 8], [10, 12]] the sum operation between elements of 1st,2nd,3rd and 4th those are 1 & 5, 2 & 6, 3 & 7, 4 & 8."
   ]
  },
  {
   "cell_type": "code",
   "execution_count": null,
   "id": "b7e5cd67",
   "metadata": {},
   "outputs": [],
   "source": []
  }
 ],
 "metadata": {
  "kernelspec": {
   "display_name": "Python 3 (ipykernel)",
   "language": "python",
   "name": "python3"
  },
  "language_info": {
   "codemirror_mode": {
    "name": "ipython",
    "version": 3
   },
   "file_extension": ".py",
   "mimetype": "text/x-python",
   "name": "python",
   "nbconvert_exporter": "python",
   "pygments_lexer": "ipython3",
   "version": "3.11.7"
  }
 },
 "nbformat": 4,
 "nbformat_minor": 5
}
