{
 "cells": [
  {
   "cell_type": "markdown",
   "id": "8deed5e1",
   "metadata": {},
   "source": [
    "# Dictionaries in python"
   ]
  },
  {
   "cell_type": "code",
   "execution_count": 1,
   "id": "fd081c33",
   "metadata": {},
   "outputs": [],
   "source": [
    "# Dictionary is an unordered collection of data stored as a pair of key and value.\n",
    "# syntax:- variable_name={key1 : value1, key2 : value2,....}"
   ]
  },
  {
   "cell_type": "markdown",
   "id": "b7f5bc1f",
   "metadata": {},
   "source": [
    "# Sets and Dictionaries"
   ]
  },
  {
   "cell_type": "code",
   "execution_count": 2,
   "id": "6a3d86a8",
   "metadata": {},
   "outputs": [],
   "source": [
    "# creating dictionaries"
   ]
  },
  {
   "cell_type": "code",
   "execution_count": 3,
   "id": "54b7ec84",
   "metadata": {},
   "outputs": [
    {
     "name": "stdout",
     "output_type": "stream",
     "text": [
      "{}\n",
      "<class 'dict'>\n"
     ]
    }
   ],
   "source": [
    "d1 = {}\n",
    "print(d1)\n",
    "print(type(d1))"
   ]
  },
  {
   "cell_type": "code",
   "execution_count": 4,
   "id": "cf08a0fa",
   "metadata": {},
   "outputs": [
    {
     "name": "stdout",
     "output_type": "stream",
     "text": [
      "{1: 'Welcome', 2: 'to', 3: 'Python', 4: 'tutorial'}\n"
     ]
    }
   ],
   "source": [
    "d2 = {1:'Welcome',2:'to',3:'Python',4:'tutorial'}\n",
    "print(d2)"
   ]
  },
  {
   "cell_type": "code",
   "execution_count": 5,
   "id": "5f14d601",
   "metadata": {},
   "outputs": [
    {
     "name": "stdout",
     "output_type": "stream",
     "text": [
      "{'name': 'sandeep', 'age': 22, 'profession': 'student'}\n"
     ]
    }
   ],
   "source": [
    "d3 = {'name':'sandeep','age':22,'profession':'student'}\n",
    "print(d3)"
   ]
  },
  {
   "cell_type": "code",
   "execution_count": 7,
   "id": "06ab1864",
   "metadata": {},
   "outputs": [
    {
     "name": "stdout",
     "output_type": "stream",
     "text": [
      "{1: 'Welcome', 2: 'to', 3: 'Python', 4: 'tutorial'}\n"
     ]
    }
   ],
   "source": [
    "d4 = dict({1:'Welcome',2:'to',3:'Python',4:'tutorial'})\n",
    "print(d4)"
   ]
  },
  {
   "cell_type": "code",
   "execution_count": 8,
   "id": "fa35d1e8",
   "metadata": {},
   "outputs": [
    {
     "name": "stdout",
     "output_type": "stream",
     "text": [
      "{1: 'welcome', 2: 'to', 3: 'python', 4: 'tutorial'}\n"
     ]
    }
   ],
   "source": [
    "d5 = dict([(1,'welcome'),(2,'to'),(3,'python'),(4,'tutorial')])\n",
    "print(d5)"
   ]
  },
  {
   "cell_type": "code",
   "execution_count": 9,
   "id": "28963622",
   "metadata": {},
   "outputs": [
    {
     "name": "stdout",
     "output_type": "stream",
     "text": [
      "{'name': {'first': 'sandeep', 'last': 'kumar'}, 'age': 22, 'profession': 'student'}\n"
     ]
    }
   ],
   "source": [
    "# Nesting\n",
    "d6 = {'name':{'first':'sandeep','last':'kumar'},'age':22,'profession':'student'}\n",
    "print(d6)"
   ]
  },
  {
   "cell_type": "markdown",
   "id": "9471491c",
   "metadata": {},
   "source": [
    "# Adding elements"
   ]
  },
  {
   "cell_type": "code",
   "execution_count": 10,
   "id": "b7ca8100",
   "metadata": {},
   "outputs": [
    {
     "name": "stdout",
     "output_type": "stream",
     "text": [
      "{0: 'welcome'}\n"
     ]
    }
   ],
   "source": [
    "d = {}\n",
    "d[0]='welcome'\n",
    "print(d)"
   ]
  },
  {
   "cell_type": "code",
   "execution_count": 12,
   "id": "4379bee0",
   "metadata": {},
   "outputs": [
    {
     "name": "stdout",
     "output_type": "stream",
     "text": [
      "{0: 'welcome', 1: ('How', 'are', 'you')}\n"
     ]
    }
   ],
   "source": [
    "d[1]=('How','are','you')\n",
    "print(d)"
   ]
  },
  {
   "cell_type": "code",
   "execution_count": 13,
   "id": "31503269",
   "metadata": {},
   "outputs": [
    {
     "name": "stdout",
     "output_type": "stream",
     "text": [
      "{0: 'welcome', 1: ('How', 'are', 'you'), 'name': 'sandeep'}\n"
     ]
    }
   ],
   "source": [
    "d['name']='sandeep'\n",
    "print(d)"
   ]
  },
  {
   "cell_type": "code",
   "execution_count": 14,
   "id": "fa755a68",
   "metadata": {},
   "outputs": [
    {
     "name": "stdout",
     "output_type": "stream",
     "text": [
      "{0: 'welcome', 1: ('How', 'are', 'you'), 'name': {'first': 'sandeep', 'last': 'kumar'}}\n"
     ]
    }
   ],
   "source": [
    "d['name']={'first':'sandeep','last':'kumar'}\n",
    "print(d)"
   ]
  },
  {
   "cell_type": "markdown",
   "id": "3ccd39ed",
   "metadata": {},
   "source": [
    "# Accessing the elements"
   ]
  },
  {
   "cell_type": "code",
   "execution_count": 15,
   "id": "c381323e",
   "metadata": {},
   "outputs": [
    {
     "name": "stdout",
     "output_type": "stream",
     "text": [
      "{0: 'welcome', 1: ('How', 'are', 'you'), 'name': {'first': 'sandeep', 'last': 'kumar'}}\n"
     ]
    }
   ],
   "source": [
    "print(d)"
   ]
  },
  {
   "cell_type": "code",
   "execution_count": 16,
   "id": "87285fb4",
   "metadata": {},
   "outputs": [
    {
     "name": "stdout",
     "output_type": "stream",
     "text": [
      "{'first': 'sandeep', 'last': 'kumar'}\n"
     ]
    }
   ],
   "source": [
    "print(d['name'])"
   ]
  },
  {
   "cell_type": "code",
   "execution_count": 17,
   "id": "bfc2d344",
   "metadata": {},
   "outputs": [
    {
     "name": "stdout",
     "output_type": "stream",
     "text": [
      "sandeep\n"
     ]
    }
   ],
   "source": [
    "print(d['name']['first'])"
   ]
  },
  {
   "cell_type": "code",
   "execution_count": 18,
   "id": "1a3d58db",
   "metadata": {},
   "outputs": [
    {
     "name": "stdout",
     "output_type": "stream",
     "text": [
      "('How', 'are', 'you')\n"
     ]
    }
   ],
   "source": [
    "print(d.get(1))"
   ]
  },
  {
   "cell_type": "markdown",
   "id": "3fca26f9",
   "metadata": {},
   "source": [
    "# Deleting elements"
   ]
  },
  {
   "cell_type": "code",
   "execution_count": 19,
   "id": "aed7c8a0",
   "metadata": {},
   "outputs": [
    {
     "name": "stdout",
     "output_type": "stream",
     "text": [
      "{0: 'welcome', 1: ('How', 'are', 'you'), 'name': {'first': 'sandeep', 'last': 'kumar'}}\n"
     ]
    }
   ],
   "source": [
    "print(d)"
   ]
  },
  {
   "cell_type": "code",
   "execution_count": 20,
   "id": "929d7f56",
   "metadata": {},
   "outputs": [
    {
     "data": {
      "text/plain": [
       "'welcome'"
      ]
     },
     "execution_count": 20,
     "metadata": {},
     "output_type": "execute_result"
    }
   ],
   "source": [
    "d.pop(0)"
   ]
  },
  {
   "cell_type": "code",
   "execution_count": 21,
   "id": "8ba37c97",
   "metadata": {},
   "outputs": [
    {
     "name": "stdout",
     "output_type": "stream",
     "text": [
      "{1: ('How', 'are', 'you'), 'name': {'first': 'sandeep', 'last': 'kumar'}}\n"
     ]
    }
   ],
   "source": [
    "print(d)"
   ]
  },
  {
   "cell_type": "code",
   "execution_count": 22,
   "id": "10f9c8bc",
   "metadata": {},
   "outputs": [
    {
     "data": {
      "text/plain": [
       "('name', {'first': 'sandeep', 'last': 'kumar'})"
      ]
     },
     "execution_count": 22,
     "metadata": {},
     "output_type": "execute_result"
    }
   ],
   "source": [
    "d.popitem()"
   ]
  },
  {
   "cell_type": "code",
   "execution_count": 23,
   "id": "7a4a0f8d",
   "metadata": {},
   "outputs": [
    {
     "name": "stdout",
     "output_type": "stream",
     "text": [
      "{1: ('How', 'are', 'you')}\n"
     ]
    }
   ],
   "source": [
    "print(d)"
   ]
  },
  {
   "cell_type": "markdown",
   "id": "e24b42c1",
   "metadata": {},
   "source": [
    "# using built-in function"
   ]
  },
  {
   "cell_type": "code",
   "execution_count": 24,
   "id": "76e2bed0",
   "metadata": {},
   "outputs": [
    {
     "name": "stdout",
     "output_type": "stream",
     "text": [
      "{0: 'welcome', 1: ('How', 'are', 'you'), 'name': {'first': 'sandeep', 'last': 'kumar'}}\n"
     ]
    }
   ],
   "source": [
    "d = {0: 'welcome', 1: ('How', 'are', 'you'), 'name': {'first': 'sandeep', 'last': 'kumar'}}\n",
    "print(d)"
   ]
  },
  {
   "cell_type": "code",
   "execution_count": 25,
   "id": "8885989d",
   "metadata": {},
   "outputs": [
    {
     "data": {
      "text/plain": [
       "dict_values(['welcome', ('How', 'are', 'you'), {'first': 'sandeep', 'last': 'kumar'}])"
      ]
     },
     "execution_count": 25,
     "metadata": {},
     "output_type": "execute_result"
    }
   ],
   "source": [
    "d.values()"
   ]
  },
  {
   "cell_type": "code",
   "execution_count": 26,
   "id": "36d03611",
   "metadata": {},
   "outputs": [
    {
     "data": {
      "text/plain": [
       "{'b': 1, 'd': 1, 'a': 1, 'c': 1}"
      ]
     },
     "execution_count": 26,
     "metadata": {},
     "output_type": "execute_result"
    }
   ],
   "source": [
    "keys = {'a','b','c','d'}\n",
    "value = 1\n",
    "dict.fromkeys(keys,value)"
   ]
  },
  {
   "cell_type": "code",
   "execution_count": 27,
   "id": "15369249",
   "metadata": {},
   "outputs": [],
   "source": [
    "d.clear()"
   ]
  },
  {
   "cell_type": "code",
   "execution_count": 28,
   "id": "90a3e748",
   "metadata": {},
   "outputs": [
    {
     "name": "stdout",
     "output_type": "stream",
     "text": [
      "{}\n"
     ]
    }
   ],
   "source": [
    "print(d)"
   ]
  },
  {
   "cell_type": "markdown",
   "id": "a8d45af8",
   "metadata": {},
   "source": [
    "# Set"
   ]
  },
  {
   "cell_type": "code",
   "execution_count": 29,
   "id": "4939197b",
   "metadata": {},
   "outputs": [],
   "source": [
    "# set is an unordered collection of unique elements.\n",
    "# sets are mutable.\n",
    "# syntax:- variable_name = set(['a','b','c','d'])"
   ]
  },
  {
   "cell_type": "code",
   "execution_count": 30,
   "id": "a998e625",
   "metadata": {},
   "outputs": [
    {
     "name": "stdout",
     "output_type": "stream",
     "text": [
      "{1, 2, 3, 4}\n",
      "<class 'set'>\n"
     ]
    }
   ],
   "source": [
    "s = set([1,2,3,4])\n",
    "print(s)\n",
    "print(type(s))"
   ]
  },
  {
   "cell_type": "code",
   "execution_count": 31,
   "id": "e416c95a",
   "metadata": {},
   "outputs": [
    {
     "name": "stdout",
     "output_type": "stream",
     "text": [
      "{1, 2, 3, 4, 'a'}\n"
     ]
    }
   ],
   "source": [
    "s.add('a')\n",
    "print(s)"
   ]
  },
  {
   "cell_type": "code",
   "execution_count": 34,
   "id": "38006f2b",
   "metadata": {},
   "outputs": [],
   "source": [
    "# but frozensets are not mutable."
   ]
  },
  {
   "cell_type": "code",
   "execution_count": 32,
   "id": "ba31ede8",
   "metadata": {},
   "outputs": [
    {
     "name": "stdout",
     "output_type": "stream",
     "text": [
      "frozenset({1, 2, 3, 4})\n"
     ]
    }
   ],
   "source": [
    "fs = frozenset([1,2,3,4])\n",
    "print(fs)"
   ]
  },
  {
   "cell_type": "code",
   "execution_count": 33,
   "id": "8f22ec21",
   "metadata": {},
   "outputs": [
    {
     "ename": "AttributeError",
     "evalue": "'frozenset' object has no attribute 'add'",
     "output_type": "error",
     "traceback": [
      "\u001b[1;31m---------------------------------------------------------------------------\u001b[0m",
      "\u001b[1;31mAttributeError\u001b[0m                            Traceback (most recent call last)",
      "Cell \u001b[1;32mIn[33], line 1\u001b[0m\n\u001b[1;32m----> 1\u001b[0m fs\u001b[38;5;241m.\u001b[39madd(\u001b[38;5;124m'\u001b[39m\u001b[38;5;124ma\u001b[39m\u001b[38;5;124m'\u001b[39m)\n\u001b[0;32m      2\u001b[0m \u001b[38;5;28mprint\u001b[39m(fs)\n",
      "\u001b[1;31mAttributeError\u001b[0m: 'frozenset' object has no attribute 'add'"
     ]
    }
   ],
   "source": [
    "fs.add('a')\n",
    "print(fs)"
   ]
  },
  {
   "cell_type": "code",
   "execution_count": 39,
   "id": "72427bb4",
   "metadata": {},
   "outputs": [],
   "source": [
    "s1 = set([2,11,3,7])\n",
    "s2 = set([6,2,9,10])"
   ]
  },
  {
   "cell_type": "code",
   "execution_count": 40,
   "id": "b8cfce9c",
   "metadata": {},
   "outputs": [
    {
     "data": {
      "text/plain": [
       "{2, 3, 6, 7, 9, 10, 11}"
      ]
     },
     "execution_count": 40,
     "metadata": {},
     "output_type": "execute_result"
    }
   ],
   "source": [
    "s1.union(s2) # here union is arrange elements in order and repeted elements are removed."
   ]
  },
  {
   "cell_type": "code",
   "execution_count": 41,
   "id": "9bb04c1a",
   "metadata": {},
   "outputs": [
    {
     "data": {
      "text/plain": [
       "{3, 7, 11}"
      ]
     },
     "execution_count": 41,
     "metadata": {},
     "output_type": "execute_result"
    }
   ],
   "source": [
    "s1.difference(s2)"
   ]
  },
  {
   "cell_type": "code",
   "execution_count": null,
   "id": "b577fe0d",
   "metadata": {},
   "outputs": [],
   "source": []
  }
 ],
 "metadata": {
  "kernelspec": {
   "display_name": "Python 3 (ipykernel)",
   "language": "python",
   "name": "python3"
  },
  "language_info": {
   "codemirror_mode": {
    "name": "ipython",
    "version": 3
   },
   "file_extension": ".py",
   "mimetype": "text/x-python",
   "name": "python",
   "nbconvert_exporter": "python",
   "pygments_lexer": "ipython3",
   "version": "3.11.7"
  }
 },
 "nbformat": 4,
 "nbformat_minor": 5
}
