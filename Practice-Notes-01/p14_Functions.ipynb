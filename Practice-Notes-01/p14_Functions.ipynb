{
 "cells": [
  {
   "cell_type": "markdown",
   "id": "f2370d26",
   "metadata": {},
   "source": [
    "# Functions"
   ]
  },
  {
   "cell_type": "code",
   "execution_count": 1,
   "id": "41937ecb",
   "metadata": {},
   "outputs": [],
   "source": [
    "# Functions:- A function is a set of code that performs some task.\n",
    "# Syntax:\n",
    "    # def function_name:\n",
    "        # statement()"
   ]
  },
  {
   "cell_type": "code",
   "execution_count": 2,
   "id": "681c8018",
   "metadata": {},
   "outputs": [
    {
     "name": "stdout",
     "output_type": "stream",
     "text": [
      "Good morning\n"
     ]
    }
   ],
   "source": [
    "def welcome():\n",
    "    print('Good morning')\n",
    "welcome()"
   ]
  },
  {
   "cell_type": "code",
   "execution_count": 3,
   "id": "6a7b4b4a",
   "metadata": {},
   "outputs": [
    {
     "name": "stdout",
     "output_type": "stream",
     "text": [
      "The sum is  12\n",
      "The sum is  6\n"
     ]
    }
   ],
   "source": [
    "def add(a,b):\n",
    "    total = a + b\n",
    "    print('The sum is ',total)\n",
    "add(10,2)\n",
    "x = 2\n",
    "y = 4\n",
    "add(x,y)"
   ]
  },
  {
   "cell_type": "code",
   "execution_count": 4,
   "id": "d2ac47eb",
   "metadata": {},
   "outputs": [
    {
     "name": "stdout",
     "output_type": "stream",
     "text": [
      "a : 10   b : 2\n",
      "The sum is  12\n",
      "a : 2   b : 4\n",
      "The sum is  6\n"
     ]
    }
   ],
   "source": [
    "# to check the program inside the function\n",
    "def add(a,b):\n",
    "    total = a + b\n",
    "    print('a : %d   b : %d'%(a,b))\n",
    "    print('The sum is ',total)\n",
    "add(10,2)\n",
    "x = 2\n",
    "y = 4\n",
    "add(x,y)"
   ]
  },
  {
   "cell_type": "code",
   "execution_count": 5,
   "id": "2d402792",
   "metadata": {},
   "outputs": [
    {
     "name": "stdout",
     "output_type": "stream",
     "text": [
      "a : 2   b : 10\n",
      "The sum is  12\n",
      "a : 4   b : 2\n",
      "The sum is  6\n"
     ]
    }
   ],
   "source": [
    "def add(b,a):\n",
    "    total = a + b\n",
    "    print('a : %d   b : %d'%(a,b))\n",
    "    print('The sum is ',total)\n",
    "add(10,2)\n",
    "x = 2\n",
    "y = 4\n",
    "add(x,y)"
   ]
  },
  {
   "cell_type": "code",
   "execution_count": 6,
   "id": "0bc0d3da",
   "metadata": {},
   "outputs": [
    {
     "name": "stdout",
     "output_type": "stream",
     "text": [
      "a : 10   b : 2\n",
      "The sum is  12\n",
      "a : 4   b : 2\n",
      "The sum is  6\n"
     ]
    }
   ],
   "source": [
    "def add(b,a):\n",
    "    total = a + b\n",
    "    print('a : %d   b : %d'%(a,b))\n",
    "    print('The sum is ',total)\n",
    "add(a = 10,b = 2)\n",
    "x = 2\n",
    "y = 4\n",
    "add(x,y)"
   ]
  },
  {
   "cell_type": "code",
   "execution_count": 7,
   "id": "79787d75",
   "metadata": {},
   "outputs": [
    {
     "ename": "TypeError",
     "evalue": "add() missing 1 required positional argument: 'b'",
     "output_type": "error",
     "traceback": [
      "\u001b[1;31m---------------------------------------------------------------------------\u001b[0m",
      "\u001b[1;31mTypeError\u001b[0m                                 Traceback (most recent call last)",
      "Cell \u001b[1;32mIn[7], line 5\u001b[0m\n\u001b[0;32m      3\u001b[0m     \u001b[38;5;28mprint\u001b[39m(\u001b[38;5;124m'\u001b[39m\u001b[38;5;124ma : \u001b[39m\u001b[38;5;132;01m%d\u001b[39;00m\u001b[38;5;124m   b : \u001b[39m\u001b[38;5;132;01m%d\u001b[39;00m\u001b[38;5;124m'\u001b[39m\u001b[38;5;241m%\u001b[39m(a,b))\n\u001b[0;32m      4\u001b[0m     \u001b[38;5;28mprint\u001b[39m(\u001b[38;5;124m'\u001b[39m\u001b[38;5;124mThe sum is \u001b[39m\u001b[38;5;124m'\u001b[39m,total)\n\u001b[1;32m----> 5\u001b[0m add(\u001b[38;5;241m10\u001b[39m)\n",
      "\u001b[1;31mTypeError\u001b[0m: add() missing 1 required positional argument: 'b'"
     ]
    }
   ],
   "source": [
    "def add(a,b):\n",
    "    total = a + b\n",
    "    print('a : %d   b : %d'%(a,b))\n",
    "    print('The sum is ',total)\n",
    "add(10) # when the missing of inputs it shaws the error."
   ]
  },
  {
   "cell_type": "code",
   "execution_count": 8,
   "id": "92d02e4e",
   "metadata": {},
   "outputs": [
    {
     "name": "stdout",
     "output_type": "stream",
     "text": [
      "a : 10   b : 0\n",
      "The sum is  10\n"
     ]
    }
   ],
   "source": [
    "# to avoid the error\n",
    "def add(a = 0,b = 0):\n",
    "    total = a + b\n",
    "    print('a : %d   b : %d'%(a,b))\n",
    "    print('The sum is ',total)\n",
    "add(10)"
   ]
  },
  {
   "cell_type": "code",
   "execution_count": 9,
   "id": "1fcfca06",
   "metadata": {},
   "outputs": [
    {
     "name": "stdout",
     "output_type": "stream",
     "text": [
      "The sum is  100\n"
     ]
    }
   ],
   "source": [
    "def add(*a):\n",
    "    total = 0\n",
    "    for i in a:\n",
    "        total = total + i\n",
    "    print('The sum is ',total)\n",
    "    \n",
    "add(10,20,30,40)"
   ]
  },
  {
   "cell_type": "code",
   "execution_count": 10,
   "id": "3dfb19ea",
   "metadata": {},
   "outputs": [
    {
     "name": "stdout",
     "output_type": "stream",
     "text": [
      "The sum is  23\n"
     ]
    }
   ],
   "source": [
    "def add(a,b):\n",
    "    a = 22\n",
    "    b = 1\n",
    "    total = a + b\n",
    "    print('The sum is ',total)\n",
    "    \n",
    "x = 2\n",
    "y = 4\n",
    "add(x,y) # here the sum of x and y is not displayed because a and b is already defined in the function"
   ]
  },
  {
   "cell_type": "code",
   "execution_count": 11,
   "id": "1cabb705",
   "metadata": {},
   "outputs": [
    {
     "name": "stdout",
     "output_type": "stream",
     "text": [
      "The sum is  23\n",
      "The sum is  6\n"
     ]
    }
   ],
   "source": [
    "def add(a,b):\n",
    "    a = 22\n",
    "    b = 1\n",
    "    total = a + b\n",
    "    print('The sum is ',total)\n",
    "    \n",
    "x = 2\n",
    "y = 4\n",
    "add(x,y)\n",
    "print('The sum is ',x + y) # here the print() function is print the output of add(x,y)"
   ]
  },
  {
   "cell_type": "code",
   "execution_count": 12,
   "id": "20f72dc9",
   "metadata": {},
   "outputs": [
    {
     "name": "stdout",
     "output_type": "stream",
     "text": [
      "140736880886600 140736880886664\n",
      "140736880886600 140736880886664\n",
      "140736880887240 140736880886568\n",
      "The sum is  23\n",
      "The sum is  6\n"
     ]
    }
   ],
   "source": [
    "def add(a,b):\n",
    "    print(id(a),id(b))\n",
    "    a = 22\n",
    "    b = 1\n",
    "    print(id(a),id(b))\n",
    "    total = a + b\n",
    "    print('The sum is ',total)\n",
    "    \n",
    "x = 2\n",
    "y = 4\n",
    "print(id(x),id(y))\n",
    "add(x,y)\n",
    "print('The sum is ',x + y)"
   ]
  },
  {
   "cell_type": "code",
   "execution_count": 13,
   "id": "653fb3a6",
   "metadata": {},
   "outputs": [
    {
     "name": "stdout",
     "output_type": "stream",
     "text": [
      "[0, 1, 2]\n",
      "[0, 1, 0]\n"
     ]
    }
   ],
   "source": [
    "# change the element in the list using function\n",
    "def add(lst):\n",
    "    lst[2] = 0\n",
    "\n",
    "lst = [0,1,2]\n",
    "print(lst)\n",
    "add(lst)\n",
    "print(lst)"
   ]
  },
  {
   "cell_type": "code",
   "execution_count": 14,
   "id": "a8effe6b",
   "metadata": {},
   "outputs": [
    {
     "name": "stdout",
     "output_type": "stream",
     "text": [
      "The sum is  12\n"
     ]
    }
   ],
   "source": [
    "def add(a,b):\n",
    "    total = a + b\n",
    "    return total\n",
    "    \n",
    "result = add(10,2)\n",
    "print('The sum is ', result)"
   ]
  },
  {
   "cell_type": "code",
   "execution_count": null,
   "id": "7d4db52a",
   "metadata": {},
   "outputs": [],
   "source": []
  }
 ],
 "metadata": {
  "kernelspec": {
   "display_name": "Python 3 (ipykernel)",
   "language": "python",
   "name": "python3"
  },
  "language_info": {
   "codemirror_mode": {
    "name": "ipython",
    "version": 3
   },
   "file_extension": ".py",
   "mimetype": "text/x-python",
   "name": "python",
   "nbconvert_exporter": "python",
   "pygments_lexer": "ipython3",
   "version": "3.11.7"
  }
 },
 "nbformat": 4,
 "nbformat_minor": 5
}
