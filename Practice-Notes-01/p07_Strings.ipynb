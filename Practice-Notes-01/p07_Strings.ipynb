{
 "cells": [
  {
   "cell_type": "markdown",
   "id": "bb665162",
   "metadata": {},
   "source": [
    "# Strings"
   ]
  },
  {
   "cell_type": "code",
   "execution_count": 1,
   "id": "dfdf1db7",
   "metadata": {},
   "outputs": [],
   "source": [
    "# String :- A string is a data type in Python, composed of a collection of characters. For example: 'Sandeep','Benakanahalli'"
   ]
  },
  {
   "cell_type": "code",
   "execution_count": 2,
   "id": "13796352",
   "metadata": {},
   "outputs": [
    {
     "name": "stdout",
     "output_type": "stream",
     "text": [
      "sandeepkumar\n"
     ]
    }
   ],
   "source": [
    "# 1 for single coats\n",
    "a='sandeepkumar'\n",
    "print(a)"
   ]
  },
  {
   "cell_type": "code",
   "execution_count": 3,
   "id": "ad9a133f",
   "metadata": {},
   "outputs": [
    {
     "name": "stdout",
     "output_type": "stream",
     "text": [
      "sandeepkumar.\n"
     ]
    }
   ],
   "source": [
    "# 2 for double coats\n",
    "b=\"sandeepkumar.\"\n",
    "print(b)"
   ]
  },
  {
   "cell_type": "code",
   "execution_count": 4,
   "id": "dd51ccc6",
   "metadata": {},
   "outputs": [
    {
     "name": "stdout",
     "output_type": "stream",
     "text": [
      "Tin's birthday\n"
     ]
    }
   ],
   "source": [
    "c=\"Tin's birthday\"\n",
    "print(c)"
   ]
  },
  {
   "cell_type": "code",
   "execution_count": 5,
   "id": "fead2589",
   "metadata": {},
   "outputs": [
    {
     "name": "stdout",
     "output_type": "stream",
     "text": [
      "Tim said ,\"I am busy today\".\n"
     ]
    }
   ],
   "source": [
    "d='Tim said ,\"I am busy today\".'\n",
    "print(d)"
   ]
  },
  {
   "cell_type": "code",
   "execution_count": 6,
   "id": "9f9e4b18",
   "metadata": {},
   "outputs": [
    {
     "name": "stdout",
     "output_type": "stream",
     "text": [
      "Tim said ,\"I'm busy today\".\n"
     ]
    }
   ],
   "source": [
    "e='Tim said ,\"I\\'m busy today\".'\n",
    "print(e)"
   ]
  },
  {
   "cell_type": "code",
   "execution_count": 7,
   "id": "d876717c",
   "metadata": {},
   "outputs": [
    {
     "name": "stdout",
     "output_type": "stream",
     "text": [
      "hey there!\n",
      "welcome to Bangaluru\n"
     ]
    }
   ],
   "source": [
    "f = '''hey there!\n",
    "welcome to Bangaluru'''\n",
    "print(f)"
   ]
  },
  {
   "cell_type": "markdown",
   "id": "01da5a9f",
   "metadata": {},
   "source": [
    "# len function"
   ]
  },
  {
   "cell_type": "code",
   "execution_count": 8,
   "id": "919476bb",
   "metadata": {},
   "outputs": [
    {
     "name": "stdout",
     "output_type": "stream",
     "text": [
      "12\n"
     ]
    }
   ],
   "source": [
    "g = 'sandeepkumar'\n",
    "print(len(g))"
   ]
  },
  {
   "cell_type": "code",
   "execution_count": 9,
   "id": "6044edab",
   "metadata": {},
   "outputs": [
    {
     "name": "stdout",
     "output_type": "stream",
     "text": [
      "13\n"
     ]
    }
   ],
   "source": [
    "# 8 when put the space b/t then it is also count in the lenght\n",
    "h = 'sandeep kumar'\n",
    "print(len(h))"
   ]
  },
  {
   "cell_type": "code",
   "execution_count": 10,
   "id": "f1dadc0f",
   "metadata": {},
   "outputs": [
    {
     "name": "stdout",
     "output_type": "stream",
     "text": [
      "p\n"
     ]
    }
   ],
   "source": [
    "print(h[6])"
   ]
  },
  {
   "cell_type": "code",
   "execution_count": 11,
   "id": "3c2ea38a",
   "metadata": {},
   "outputs": [
    {
     "name": "stdout",
     "output_type": "stream",
     "text": [
      "s\n",
      "a\n",
      "n\n",
      "d\n",
      "e\n",
      "e\n",
      "p\n",
      "k\n",
      "u\n",
      "m\n",
      "a\n",
      "r\n"
     ]
    }
   ],
   "source": [
    "# 10 every new character in single line\n",
    "stg='sandeepkumar'\n",
    "for i in stg:\n",
    "    print(i)"
   ]
  },
  {
   "cell_type": "code",
   "execution_count": 12,
   "id": "1a1a2d27",
   "metadata": {},
   "outputs": [
    {
     "name": "stdout",
     "output_type": "stream",
     "text": [
      "sandeepkumar"
     ]
    }
   ],
   "source": [
    "# 11 for print the all character in a single line\n",
    "stg = 'sandeepkumar'\n",
    "for i in stg:\n",
    "    print(i,end='')"
   ]
  },
  {
   "cell_type": "markdown",
   "id": "68326407",
   "metadata": {},
   "source": [
    "# slicing"
   ]
  },
  {
   "cell_type": "code",
   "execution_count": 13,
   "id": "097ba8ce",
   "metadata": {},
   "outputs": [
    {
     "name": "stdout",
     "output_type": "stream",
     "text": [
      "sandeep\n",
      "sandeep\n",
      "kumar\n",
      "nde\n"
     ]
    }
   ],
   "source": [
    "stg = 'sandeepkumar'\n",
    "print(stg[0:7])\n",
    "print(stg[:7])\n",
    "print(stg[7:])\n",
    "print(stg[2:5])"
   ]
  },
  {
   "cell_type": "markdown",
   "id": "7319b02f",
   "metadata": {},
   "source": [
    "# in-built methods"
   ]
  },
  {
   "cell_type": "code",
   "execution_count": 14,
   "id": "d2c1e32e",
   "metadata": {},
   "outputs": [
    {
     "name": "stdout",
     "output_type": "stream",
     "text": [
      "WELCOME TO BENGALURU.\n",
      "welcome to bengaluru.\n",
      "11\n",
      "11\n",
      "['Welcome', 'to', 'Bengaluru.']\n",
      "Welcome to Karnataka.\n",
      "('Welcome', ' to ', 'Bengaluru.')\n"
     ]
    }
   ],
   "source": [
    "stg = 'Welcome to Bengaluru.'\n",
    "print(stg.upper())\n",
    "print(stg.lower())\n",
    "print(stg.find('B'))\n",
    "print(stg.index('B'))\n",
    "print(stg.split(' '))\n",
    "print(stg.replace('Bengaluru','Karnataka'))\n",
    "print(stg.rpartition(' to '))  # convert string to tuple"
   ]
  },
  {
   "cell_type": "markdown",
   "id": "e816c4d9",
   "metadata": {},
   "source": [
    "# concatenation"
   ]
  },
  {
   "cell_type": "code",
   "execution_count": 15,
   "id": "ce675532",
   "metadata": {},
   "outputs": [
    {
     "name": "stdout",
     "output_type": "stream",
     "text": [
      "good morning\n"
     ]
    }
   ],
   "source": [
    "stg1 = 'good'\n",
    "stg2 = 'morning'\n",
    "print(stg1+' '+stg2)"
   ]
  },
  {
   "cell_type": "code",
   "execution_count": 16,
   "id": "bec4b022",
   "metadata": {},
   "outputs": [
    {
     "name": "stdout",
     "output_type": "stream",
     "text": [
      "Hey there, all!\n"
     ]
    }
   ],
   "source": [
    "stg1 = 'Hey'\n",
    "stg2 = 'there'\n",
    "stg3 = 'all'\n",
    "stg='{} {}, {}!'.format(stg1,stg2,stg3)\n",
    "print(stg)"
   ]
  },
  {
   "cell_type": "code",
   "execution_count": 17,
   "id": "a77eede7",
   "metadata": {},
   "outputs": [
    {
     "name": "stdout",
     "output_type": "stream",
     "text": [
      "False\n",
      "True\n",
      "the string a : sandeep\n"
     ]
    }
   ],
   "source": [
    "a='sandeep'\n",
    "print('w' in a)\n",
    "print('w' not in a)\n",
    "print('the string a : %s' %a)"
   ]
  },
  {
   "cell_type": "code",
   "execution_count": null,
   "id": "15c4a6ad",
   "metadata": {},
   "outputs": [],
   "source": []
  }
 ],
 "metadata": {
  "kernelspec": {
   "display_name": "Python 3 (ipykernel)",
   "language": "python",
   "name": "python3"
  },
  "language_info": {
   "codemirror_mode": {
    "name": "ipython",
    "version": 3
   },
   "file_extension": ".py",
   "mimetype": "text/x-python",
   "name": "python",
   "nbconvert_exporter": "python",
   "pygments_lexer": "ipython3",
   "version": "3.11.7"
  }
 },
 "nbformat": 4,
 "nbformat_minor": 5
}
