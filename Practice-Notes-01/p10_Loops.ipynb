{
 "cells": [
  {
   "cell_type": "markdown",
   "id": "88072fde",
   "metadata": {},
   "source": [
    "# loops in Python"
   ]
  },
  {
   "cell_type": "code",
   "execution_count": 1,
   "id": "2fb3073f",
   "metadata": {},
   "outputs": [],
   "source": [
    "# A loop is an instruction that repeats multiple times as long as some condition is met.\n",
    "# Three types are 1.while loop, 2.for loop, 3.nested loop."
   ]
  },
  {
   "cell_type": "markdown",
   "id": "bea3f754",
   "metadata": {},
   "source": [
    "# while loop"
   ]
  },
  {
   "cell_type": "code",
   "execution_count": 2,
   "id": "5501ece7",
   "metadata": {},
   "outputs": [],
   "source": [
    "# The while loop is used to repeat a section of code an unknown number of times until a specific condition is met.\n",
    "# Syntax-\n",
    "    # while expression:\n",
    "        # statement()"
   ]
  },
  {
   "cell_type": "code",
   "execution_count": 3,
   "id": "28d036f8",
   "metadata": {},
   "outputs": [
    {
     "name": "stdout",
     "output_type": "stream",
     "text": [
      "Enter a multiple of 7 2\n",
      "Enter a multiple of 7 5\n",
      "Enter a multiple of 7 9\n",
      "Enter a multiple of 7 1\n",
      "Enter a multiple of 7 14\n"
     ]
    }
   ],
   "source": [
    "va1 = int(input('Enter a multiple of 7 '))\n",
    "while va1%7!=0:\n",
    "    va1=int(input('Enter a multiple of 7 '))"
   ]
  },
  {
   "cell_type": "code",
   "execution_count": 4,
   "id": "47d54cd7",
   "metadata": {},
   "outputs": [
    {
     "name": "stdout",
     "output_type": "stream",
     "text": [
      "Enter a multiple of 7 98\n",
      "98 is a multiple of 7\n"
     ]
    }
   ],
   "source": [
    "va1 = int(input('Enter a multiple of 7 '))\n",
    "while va1%7!=0:\n",
    "    va1=int(input('Enter a multiple of 7 '))\n",
    "else:\n",
    "    print('%d is a multiple of 7'%va1)"
   ]
  },
  {
   "cell_type": "markdown",
   "id": "f645eb5f",
   "metadata": {},
   "source": [
    "# For loop"
   ]
  },
  {
   "cell_type": "code",
   "execution_count": 5,
   "id": "7f07ec0f",
   "metadata": {},
   "outputs": [],
   "source": [
    "# for loop is used to iterate over a sequence, which could be a list, tuple, array or a string.\n",
    "# Syntax\n",
    "    # for counter in sequence:\n",
    "        # statement(s)"
   ]
  },
  {
   "cell_type": "code",
   "execution_count": 6,
   "id": "b7504ff7",
   "metadata": {},
   "outputs": [
    {
     "name": "stdout",
     "output_type": "stream",
     "text": [
      "1\n",
      "6\n",
      "sandeep\n"
     ]
    }
   ],
   "source": [
    "x = [1,6,'sandeep']\n",
    "for i in x:\n",
    "    print(i)"
   ]
  },
  {
   "cell_type": "code",
   "execution_count": 7,
   "id": "1518622c",
   "metadata": {},
   "outputs": [
    {
     "name": "stdout",
     "output_type": "stream",
     "text": [
      "1 6 sandeep "
     ]
    }
   ],
   "source": [
    "x = [1,6,'sandeep']\n",
    "for i in x:\n",
    "    print(i,end=' ')"
   ]
  },
  {
   "cell_type": "code",
   "execution_count": 8,
   "id": "1caee5ed",
   "metadata": {},
   "outputs": [
    {
     "name": "stdout",
     "output_type": "stream",
     "text": [
      "s\n",
      "a\n",
      "n\n",
      "d\n",
      "e\n",
      "e\n",
      "p\n"
     ]
    }
   ],
   "source": [
    "x = 'sandeep'\n",
    "for i in x:\n",
    "    print(i)"
   ]
  },
  {
   "cell_type": "markdown",
   "id": "1f88f91b",
   "metadata": {},
   "source": [
    "# Nested loop"
   ]
  },
  {
   "cell_type": "code",
   "execution_count": 9,
   "id": "f4c3fa53",
   "metadata": {},
   "outputs": [],
   "source": [
    "# python allows loops to be nested in loops. Nested loops could be:"
   ]
  },
  {
   "cell_type": "code",
   "execution_count": 10,
   "id": "5315f6b9",
   "metadata": {},
   "outputs": [
    {
     "name": "stdout",
     "output_type": "stream",
     "text": [
      "1\n",
      "2\n",
      "3\n",
      "a\n",
      "b\n",
      "c\n"
     ]
    }
   ],
   "source": [
    "x = [[1,2,3],['a','b','c']]\n",
    "for i in x:\n",
    "    for j in i:\n",
    "        print(j)"
   ]
  },
  {
   "cell_type": "code",
   "execution_count": 11,
   "id": "e9a204cc",
   "metadata": {},
   "outputs": [
    {
     "name": "stdout",
     "output_type": "stream",
     "text": [
      "1 2 3 a b c "
     ]
    }
   ],
   "source": [
    "x = [[1,2,3],['a','b','c']]\n",
    "for i in x:\n",
    "    for j in i:\n",
    "        print(j,end=' ')"
   ]
  },
  {
   "cell_type": "code",
   "execution_count": 12,
   "id": "2b80e1e2",
   "metadata": {},
   "outputs": [
    {
     "name": "stdout",
     "output_type": "stream",
     "text": [
      "1 2 3 \n",
      "a b c \n"
     ]
    }
   ],
   "source": [
    "x = [[1,2,3],['a','b','c']]\n",
    "for i in x:\n",
    "    for j in i:\n",
    "        print(j,end=' ')\n",
    "    print()"
   ]
  },
  {
   "cell_type": "markdown",
   "id": "07d4bae5",
   "metadata": {},
   "source": [
    "# Loop control statements"
   ]
  },
  {
   "cell_type": "code",
   "execution_count": 13,
   "id": "941566e3",
   "metadata": {},
   "outputs": [],
   "source": [
    "# loop control statements alter the regular flow of a loop.\n",
    "# 1. BREAK:- Transfers control to the statement right after the loop."
   ]
  },
  {
   "cell_type": "code",
   "execution_count": 14,
   "id": "4f96dc6b",
   "metadata": {},
   "outputs": [
    {
     "name": "stdout",
     "output_type": "stream",
     "text": [
      "H\n",
      "e\n",
      "y\n",
      " \n",
      "t\n",
      "h\n",
      "e\n",
      "r\n",
      "e\n"
     ]
    }
   ],
   "source": [
    "x = 'Hey there. how are you?'\n",
    "for i in x:\n",
    "    if i == '.':\n",
    "        break\n",
    "    print(i)"
   ]
  },
  {
   "cell_type": "code",
   "execution_count": 15,
   "id": "ce5abe14",
   "metadata": {},
   "outputs": [
    {
     "name": "stdout",
     "output_type": "stream",
     "text": [
      "Hey there"
     ]
    }
   ],
   "source": [
    "x = 'Hey there. how are you?'\n",
    "for i in x:\n",
    "    if i == '.':\n",
    "        break\n",
    "    print(i,end='')"
   ]
  },
  {
   "cell_type": "code",
   "execution_count": 16,
   "id": "e7140972",
   "metadata": {},
   "outputs": [],
   "source": [
    "# 2. CONTINUE:- skips the statements following it and returns control to the beginning of the loops."
   ]
  },
  {
   "cell_type": "code",
   "execution_count": 17,
   "id": "dcaee8c2",
   "metadata": {},
   "outputs": [
    {
     "ename": "IndentationError",
     "evalue": "expected an indented block after 'if' statement on line 4 (682455697.py, line 5)",
     "output_type": "error",
     "traceback": [
      "\u001b[1;36m  Cell \u001b[1;32mIn[17], line 5\u001b[1;36m\u001b[0m\n\u001b[1;33m    else:\u001b[0m\n\u001b[1;37m    ^\u001b[0m\n\u001b[1;31mIndentationError\u001b[0m\u001b[1;31m:\u001b[0m expected an indented block after 'if' statement on line 4\n"
     ]
    }
   ],
   "source": [
    "# there is a error in program because of if condition so we are use the continue for clear the error in below program.\n",
    "x = [1,14,54,2,7]\n",
    "for i in x:\n",
    "    if i>10:\n",
    "    else:\n",
    "        print(i)"
   ]
  },
  {
   "cell_type": "code",
   "execution_count": 18,
   "id": "9175555f",
   "metadata": {},
   "outputs": [
    {
     "name": "stdout",
     "output_type": "stream",
     "text": [
      "1\n",
      "2\n",
      "7\n"
     ]
    }
   ],
   "source": [
    "# Here the continue statement is ignore the error.\n",
    "x = [1,14,54,2,7]\n",
    "for i in x:\n",
    "    if i>10:\n",
    "        continue\n",
    "    else:\n",
    "        print(i)"
   ]
  },
  {
   "cell_type": "code",
   "execution_count": 19,
   "id": "186f59d2",
   "metadata": {},
   "outputs": [
    {
     "name": "stdout",
     "output_type": "stream",
     "text": [
      "1\n",
      "2\n",
      "7\n"
     ]
    }
   ],
   "source": [
    "x = [1,14,54,2,7]\n",
    "for i in x:\n",
    "    if i>10:\n",
    "        continue\n",
    "    print(i)"
   ]
  },
  {
   "cell_type": "code",
   "execution_count": 20,
   "id": "6bc49f52",
   "metadata": {},
   "outputs": [
    {
     "name": "stdout",
     "output_type": "stream",
     "text": [
      "H\n",
      "e\n",
      "y\n",
      " \n",
      "t\n",
      "h\n",
      "e\n",
      "r\n",
      "e\n",
      " \n",
      "h\n",
      "o\n",
      "w\n",
      " \n",
      "a\n",
      "r\n",
      "e\n",
      " \n",
      "y\n",
      "o\n",
      "u\n",
      "?\n"
     ]
    }
   ],
   "source": [
    "x = 'Hey there. how are you?'\n",
    "for i in x:\n",
    "    if i == '.':\n",
    "        continue\n",
    "    print(i)"
   ]
  },
  {
   "cell_type": "code",
   "execution_count": null,
   "id": "e3a73804",
   "metadata": {},
   "outputs": [],
   "source": []
  }
 ],
 "metadata": {
  "kernelspec": {
   "display_name": "Python 3 (ipykernel)",
   "language": "python",
   "name": "python3"
  },
  "language_info": {
   "codemirror_mode": {
    "name": "ipython",
    "version": 3
   },
   "file_extension": ".py",
   "mimetype": "text/x-python",
   "name": "python",
   "nbconvert_exporter": "python",
   "pygments_lexer": "ipython3",
   "version": "3.11.7"
  }
 },
 "nbformat": 4,
 "nbformat_minor": 5
}
