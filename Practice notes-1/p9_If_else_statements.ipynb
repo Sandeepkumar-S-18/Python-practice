{
 "cells": [
  {
   "cell_type": "markdown",
   "id": "01293f69",
   "metadata": {},
   "source": [
    "# if statements"
   ]
  },
  {
   "cell_type": "code",
   "execution_count": 1,
   "id": "29c0ea6f",
   "metadata": {},
   "outputs": [],
   "source": [
    "# Syntax- if condition.\n",
    "# Statements to execute if\n",
    "# condition is true"
   ]
  },
  {
   "cell_type": "code",
   "execution_count": 2,
   "id": "0ab6af27",
   "metadata": {},
   "outputs": [
    {
     "name": "stdout",
     "output_type": "stream",
     "text": [
      "This is outside the if block\n"
     ]
    }
   ],
   "source": [
    "a = 20\n",
    "if a>50:\n",
    "    print('This is the if body')\n",
    "print('This is outside the if block')"
   ]
  },
  {
   "cell_type": "code",
   "execution_count": 3,
   "id": "5025f378",
   "metadata": {},
   "outputs": [
    {
     "name": "stdout",
     "output_type": "stream",
     "text": [
      "This is the if body\n",
      "This is outside the if block\n"
     ]
    }
   ],
   "source": [
    "a = 60\n",
    "if a>50:\n",
    "    print('This is the if body')\n",
    "print('This is outside the if block')"
   ]
  },
  {
   "cell_type": "markdown",
   "id": "1b88b22b",
   "metadata": {},
   "source": [
    "# if-else statement"
   ]
  },
  {
   "cell_type": "code",
   "execution_count": 4,
   "id": "0140c8bc",
   "metadata": {},
   "outputs": [],
   "source": [
    "# Syntax- \n",
    "\n",
    "    # if(condition):\n",
    "        # Executes this block if\n",
    "        # condition is true\n",
    "    # else:\n",
    "        # Executes this block if\n",
    "        # condition is false"
   ]
  },
  {
   "cell_type": "code",
   "execution_count": 5,
   "id": "59c7273e",
   "metadata": {},
   "outputs": [
    {
     "name": "stdout",
     "output_type": "stream",
     "text": [
      "This is the if block\n",
      "i is an even number\n"
     ]
    }
   ],
   "source": [
    "i = 20\n",
    "if i%2==0:\n",
    "    print('This is the if block')\n",
    "    print('i is an even number')\n",
    "else:\n",
    "    print('This is the else block')\n",
    "    print('i is an odd number')"
   ]
  },
  {
   "cell_type": "code",
   "execution_count": 6,
   "id": "cf1f9168",
   "metadata": {},
   "outputs": [
    {
     "name": "stdout",
     "output_type": "stream",
     "text": [
      "This is the else block\n",
      "i is an odd number\n"
     ]
    }
   ],
   "source": [
    "i = 23\n",
    "if i%2==0:\n",
    "    print('This is the if block')\n",
    "    print('i is an even number')\n",
    "else:\n",
    "    print('This is the else block')\n",
    "    print('i is an odd number')"
   ]
  },
  {
   "cell_type": "markdown",
   "id": "0c355559",
   "metadata": {},
   "source": [
    "# Nested if statement"
   ]
  },
  {
   "cell_type": "code",
   "execution_count": 7,
   "id": "925df79c",
   "metadata": {},
   "outputs": [],
   "source": [
    "# Syntax-\n",
    "\n",
    "    # if(condition1):\n",
    "        # Executes if condition1 is true\n",
    "        # if (condition2):\n",
    "            # Executes if condition2 is true\n",
    "        # condition2 ends here\n",
    "    # condition1 ends here"
   ]
  },
  {
   "cell_type": "code",
   "execution_count": 8,
   "id": "7a38795e",
   "metadata": {},
   "outputs": [
    {
     "name": "stdout",
     "output_type": "stream",
     "text": [
      "c is an odd number less than 25\n"
     ]
    }
   ],
   "source": [
    "c = 21\n",
    "if c<25:\n",
    "    if c%2==0:\n",
    "        print('c is an even number less than 25')\n",
    "    else:\n",
    "        print('c is an odd number less than 25')\n",
    "else:\n",
    "    print('c is greater than 25')"
   ]
  },
  {
   "cell_type": "code",
   "execution_count": 9,
   "id": "e03572f6",
   "metadata": {},
   "outputs": [
    {
     "name": "stdout",
     "output_type": "stream",
     "text": [
      "c is greater than 25\n"
     ]
    }
   ],
   "source": [
    "c = 50\n",
    "if c<25:\n",
    "    if c%2==0:\n",
    "        print('c is an even number less than 25')\n",
    "    else:\n",
    "        print('c is an odd number less than 25')\n",
    "else:\n",
    "    print('c is greater than 25')"
   ]
  },
  {
   "cell_type": "markdown",
   "id": "89dfd702",
   "metadata": {},
   "source": [
    "# if-elif-else statements"
   ]
  },
  {
   "cell_type": "code",
   "execution_count": 10,
   "id": "45f29a0c",
   "metadata": {},
   "outputs": [],
   "source": [
    "# Syntax-\n",
    "\n",
    "    # if(condition):\n",
    "       # statement\n",
    "    # elif(condition):\n",
    "        # statement\n",
    "    # .\n",
    "    # .\n",
    "    # else:\n",
    "        # statement"
   ]
  },
  {
   "cell_type": "code",
   "execution_count": 11,
   "id": "ecd07fef",
   "metadata": {},
   "outputs": [
    {
     "name": "stdout",
     "output_type": "stream",
     "text": [
      "This is a consonant\n"
     ]
    }
   ],
   "source": [
    "var = 'z'\n",
    "if var=='a':\n",
    "    print('This is the vowel a')\n",
    "elif var=='e':\n",
    "    print('This is the vowel e')\n",
    "elif var=='i':\n",
    "    print('This is the vowel i')\n",
    "elif var=='o':\n",
    "    print('This is the vowel o')\n",
    "elif var=='u':\n",
    "    print('This is the vowel u')\n",
    "else:\n",
    "    print('This is a consonant')"
   ]
  },
  {
   "cell_type": "code",
   "execution_count": 12,
   "id": "63e3a618",
   "metadata": {},
   "outputs": [
    {
     "name": "stdout",
     "output_type": "stream",
     "text": [
      "This is the vowel o\n"
     ]
    }
   ],
   "source": [
    "var = 'o'\n",
    "if var=='a':\n",
    "    print('This is the vowel a')\n",
    "elif var=='e':\n",
    "    print('This is the vowel e')\n",
    "elif var=='i':\n",
    "    print('This is the vowel i')\n",
    "elif var=='o':\n",
    "    print('This is the vowel o')\n",
    "elif var=='u':\n",
    "    print('This is the vowel u')\n",
    "else:\n",
    "    print('This is a consonant')"
   ]
  },
  {
   "cell_type": "code",
   "execution_count": null,
   "id": "3bc77dd8",
   "metadata": {},
   "outputs": [],
   "source": []
  }
 ],
 "metadata": {
  "kernelspec": {
   "display_name": "Python 3 (ipykernel)",
   "language": "python",
   "name": "python3"
  },
  "language_info": {
   "codemirror_mode": {
    "name": "ipython",
    "version": 3
   },
   "file_extension": ".py",
   "mimetype": "text/x-python",
   "name": "python",
   "nbconvert_exporter": "python",
   "pygments_lexer": "ipython3",
   "version": "3.11.7"
  }
 },
 "nbformat": 4,
 "nbformat_minor": 5
}
